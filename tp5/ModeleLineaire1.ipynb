{
  "nbformat": 4,
  "nbformat_minor": 0,
  "metadata": {
    "kernelspec": {
      "display_name": "python-ml",
      "language": "python",
      "name": "python-ml"
    },
    "language_info": {
      "codemirror_mode": {
        "name": "ipython",
        "version": 2
      },
      "file_extension": ".py",
      "mimetype": "text/x-python",
      "name": "python",
      "nbconvert_exporter": "python",
      "pygments_lexer": "ipython2",
      "version": "2.7.16"
    },
    "colab": {
      "name": "ModeleLineaire1.ipynb",
      "provenance": [],
      "collapsed_sections": []
    },
    "accelerator": "GPU"
  },
  "cells": [
    {
      "cell_type": "markdown",
      "metadata": {
        "id": "Q88Eqc9TbmaZ",
        "colab_type": "text"
      },
      "source": [
        "# Modèle linéaire\n",
        "\n",
        "Considérons la cas classique d'une fonction affine :\n",
        "\n",
        "$$y=ax+b$$\n",
        "\n",
        "Ici, $a$ et $b$ sont des réels. Ces deux nombres définissent entièrement la courbe et permet donc d'obtenir une relation **affine** entre $x$ et $y$. En statistique, cette relation est à la base des modèles dit **linéaires**, où une variable réponse se définit comme une somme de variables explicatives où chacune de ces dernières sont multipliés par un coefficient.\n",
        "\n",
        "\n",
        "## Modèle linéaire simple\n",
        "\n",
        "![](https://upload.wikimedia.org/wikipedia/commons/thumb/3/3a/Linear_regression.svg/438px-Linear_regression.svg.png)\n",
        "\n",
        "Dans le modèle linéaire simple (une seule variable explicative), on suppose que la variable réponse suit le modèle suivant :\n",
        "\n",
        "$$y_i=\\beta_0 + \\beta_1 x_i + \\varepsilon_i$$\n",
        "\n",
        "On remarque la ressemblance avec la fonction affine présentée ci-dessus. La différence réside dans l'existence du terme aléatoire (appelé bruit) $\\varepsilon_i$. Afin de considérer le modèle, il est nécessaire de se placer sous les hypothèses suivantes\n",
        "\n",
        "$$(\\mathcal{H}) : \\left\\{\\begin{matrix}\n",
        "\\mathbb{E}[\\varepsilon_i]=0\\\\ \n",
        "\\text{Cov}(\\varepsilon_i, \\varepsilon_j)=\\delta_{ij} \\sigma^2\n",
        "\\end{matrix}\\right.$$\n",
        "Les différents éléments qui interviennent sont :\n",
        "\n",
        "- $\\beta_0$ : l'ordonnée à l'origine (nommée *intercept*)\n",
        "- $\\beta_1$ : le coefficient directeur\n",
        "- $x_i$ : l'observation $i$\n",
        "- $y_i$ : le $i$-ème prix\n",
        "- $\\varepsilon_i$ : le bruit aléatoire liée à la $i$-ème observation\n",
        "\n",
        "La solution peut se calculer facilement via les formules fermées suivantes :\n",
        "\n",
        "$$\\hat{\\beta}_1=\\frac{\\sum_{i=1}^n (x_i - \\bar{x})(y_i - \\bar{y})}{\\sum_{i=1}^n (x_i - \\bar{x})^2} \\qquad \\hat{\\beta}_0 = \\hat{y} - \\hat{\\beta}_1 \\bar{x}$$\n",
        "\n",
        "## Modèle linéaire multiple\n",
        "\n",
        "Dans le cas multiple (pour $p$ variables explicatives), pour la $i$-ème observation, le modèle s'écrit :\n",
        "\n",
        "$$y_i= \\beta_0 + \\sum_{j=1}^p \\beta_j x_{ij} + \\varepsilon_i$$\n",
        "\n",
        "Ainsi, une observation $x_i$ n'est plus une valeur, mais un **vecteur** $(x_{i1}, \\dots, x_{ip})$. Il est plus commode de regrouper ces prix $y_i$ et ces vecteurs d'observations $x_i$ dans des matrices :\n",
        "\n",
        "$$Y=X \\beta + \\varepsilon$$\n",
        "\n",
        "Sous les hypothèses équivalentes du modèle simple en plus grand dimension\n",
        "\n",
        "$$(\\mathcal{H}) : \\left\\{\\begin{matrix}\n",
        "\\text{rank}(X)=p\\\\ \n",
        "\\mathbb{E}[\\varepsilon]=0 \\text{ et }\\text{Var}(\\varepsilon)=\\sigma^2 I_p\n",
        "\\end{matrix}\\right.$$\n",
        "\n",
        "Les différents éléments qui interviennent sont :\n",
        "\n",
        "- $\\beta$ : le vecteur directeur\n",
        "- $X$ : la matrice des observations\n",
        "- $Y$ : le vecteur de prix\n",
        "- $\\varepsilon$ : le vecteur de bruit\n",
        "\n",
        "Avec $X=( \\mathbf{1}, X_1, \\dots, X_n)$, $Y=(y_1, \\dots, y_n)^\\top$ et $\\varepsilon=(\\varepsilon_1, \\dots, \\varepsilon_n)^\\top$. La solution des MCO (Moindres Carrés Ordinaires) est alors :\n",
        "\n",
        "$$\\hat{\\beta}= (X^\\top X)^{-1} X^\\top Y$$\n",
        "\n",
        "Vous pouvez d'ailleurs faire la démonstration de votre coté ! Pour plus d'information mathématiques, je vous conseil le portail de wikipédia qui est très bien fait : [lien ici](https://fr.wikipedia.org/wiki/Portail:Probabilit%C3%A9s_et_statistiques)"
      ]
    },
    {
      "cell_type": "code",
      "metadata": {
        "id": "DQ6tvswzcD0X",
        "colab_type": "code",
        "outputId": "aea1cfaa-dc1d-488a-8d9d-a6f45893fecd",
        "colab": {
          "base_uri": "https://localhost:8080/",
          "height": 34
        }
      },
      "source": [
        "from google.colab import drive\n",
        "drive.mount('/content/drive')"
      ],
      "execution_count": 63,
      "outputs": [
        {
          "output_type": "stream",
          "text": [
            "Drive already mounted at /content/drive; to attempt to forcibly remount, call drive.mount(\"/content/drive\", force_remount=True).\n"
          ],
          "name": "stdout"
        }
      ]
    },
    {
      "cell_type": "markdown",
      "metadata": {
        "id": "bMzEQ7ozbmac",
        "colab_type": "text"
      },
      "source": [
        "# Implémenter une régression linéaire \n"
      ]
    },
    {
      "cell_type": "code",
      "metadata": {
        "id": "eItjeYerbmac",
        "colab_type": "code",
        "colab": {}
      },
      "source": [
        "#importer vos librairies \n",
        "import pandas as pd \n",
        "import numpy as np \n",
        "import io\n",
        "from sklearn import linear_model \n",
        "from sklearn.metrics import mean_squared_error, r2_score"
      ],
      "execution_count": 0,
      "outputs": []
    },
    {
      "cell_type": "code",
      "metadata": {
        "id": "9dVg4fW7bmaf",
        "colab_type": "code",
        "outputId": "2b8e174c-efc4-4355-db06-4d05d8c8c716",
        "colab": {
          "base_uri": "https://localhost:8080/",
          "height": 34
        }
      },
      "source": [
        "#charger les données \n",
        "#price_availability.csv\n",
        "#listings_final.csv\n",
        "#attention aux valeurs manquantes !!\n",
        "root_path = '/content/drive/My Drive/Colab Notebooks'\n",
        "price = pd.read_csv(root_path+\"/data/price_availability.csv\", sep=';')\n",
        "listing = pd.read_csv(root_path+\"/data/listings_final.csv\", sep=';')\n",
        "listing = listing.drop(589)\n",
        "print('data loaded')"
      ],
      "execution_count": 65,
      "outputs": [
        {
          "output_type": "stream",
          "text": [
            "data loaded\n"
          ],
          "name": "stdout"
        }
      ]
    },
    {
      "cell_type": "code",
      "metadata": {
        "id": "Ys1v-_YW-ji3",
        "colab_type": "code",
        "colab": {
          "base_uri": "https://localhost:8080/",
          "height": 204
        },
        "outputId": "243e03c9-0eec-4896-e603-9ec103b4a422"
      },
      "source": [
        "price.head()"
      ],
      "execution_count": 66,
      "outputs": [
        {
          "output_type": "execute_result",
          "data": {
            "text/html": [
              "<div>\n",
              "<style scoped>\n",
              "    .dataframe tbody tr th:only-of-type {\n",
              "        vertical-align: middle;\n",
              "    }\n",
              "\n",
              "    .dataframe tbody tr th {\n",
              "        vertical-align: top;\n",
              "    }\n",
              "\n",
              "    .dataframe thead th {\n",
              "        text-align: right;\n",
              "    }\n",
              "</style>\n",
              "<table border=\"1\" class=\"dataframe\">\n",
              "  <thead>\n",
              "    <tr style=\"text-align: right;\">\n",
              "      <th></th>\n",
              "      <th>listing_id</th>\n",
              "      <th>day</th>\n",
              "      <th>created</th>\n",
              "      <th>available</th>\n",
              "      <th>local_currency</th>\n",
              "      <th>local_price</th>\n",
              "      <th>min_nights</th>\n",
              "    </tr>\n",
              "  </thead>\n",
              "  <tbody>\n",
              "    <tr>\n",
              "      <th>0</th>\n",
              "      <td>9810829</td>\n",
              "      <td>2018-12-08</td>\n",
              "      <td>2018-09-27 06:14:10.000+0000</td>\n",
              "      <td>True</td>\n",
              "      <td>EUR</td>\n",
              "      <td>160</td>\n",
              "      <td>1</td>\n",
              "    </tr>\n",
              "    <tr>\n",
              "      <th>1</th>\n",
              "      <td>9810829</td>\n",
              "      <td>2018-12-08</td>\n",
              "      <td>2018-09-26 19:34:02.000+0000</td>\n",
              "      <td>True</td>\n",
              "      <td>EUR</td>\n",
              "      <td>160</td>\n",
              "      <td>1</td>\n",
              "    </tr>\n",
              "    <tr>\n",
              "      <th>2</th>\n",
              "      <td>20897010</td>\n",
              "      <td>2018-12-09</td>\n",
              "      <td>2018-09-27 10:38:57.000+0000</td>\n",
              "      <td>True</td>\n",
              "      <td>EUR</td>\n",
              "      <td>172</td>\n",
              "      <td>2</td>\n",
              "    </tr>\n",
              "    <tr>\n",
              "      <th>3</th>\n",
              "      <td>20897010</td>\n",
              "      <td>2018-12-09</td>\n",
              "      <td>2018-09-27 06:10:27.000+0000</td>\n",
              "      <td>True</td>\n",
              "      <td>EUR</td>\n",
              "      <td>172</td>\n",
              "      <td>2</td>\n",
              "    </tr>\n",
              "    <tr>\n",
              "      <th>4</th>\n",
              "      <td>20897010</td>\n",
              "      <td>2018-12-09</td>\n",
              "      <td>2018-09-26 19:30:25.000+0000</td>\n",
              "      <td>True</td>\n",
              "      <td>EUR</td>\n",
              "      <td>172</td>\n",
              "      <td>2</td>\n",
              "    </tr>\n",
              "  </tbody>\n",
              "</table>\n",
              "</div>"
            ],
            "text/plain": [
              "   listing_id         day  ... local_price  min_nights\n",
              "0     9810829  2018-12-08  ...         160           1\n",
              "1     9810829  2018-12-08  ...         160           1\n",
              "2    20897010  2018-12-09  ...         172           2\n",
              "3    20897010  2018-12-09  ...         172           2\n",
              "4    20897010  2018-12-09  ...         172           2\n",
              "\n",
              "[5 rows x 7 columns]"
            ]
          },
          "metadata": {
            "tags": []
          },
          "execution_count": 66
        }
      ]
    },
    {
      "cell_type": "code",
      "metadata": {
        "id": "9B2BOxg0-0iL",
        "colab_type": "code",
        "colab": {
          "base_uri": "https://localhost:8080/",
          "height": 297
        },
        "outputId": "0a7c1fe3-5987-4f1b-fac8-65b6191e91be"
      },
      "source": [
        "price.describe()"
      ],
      "execution_count": 67,
      "outputs": [
        {
          "output_type": "execute_result",
          "data": {
            "text/html": [
              "<div>\n",
              "<style scoped>\n",
              "    .dataframe tbody tr th:only-of-type {\n",
              "        vertical-align: middle;\n",
              "    }\n",
              "\n",
              "    .dataframe tbody tr th {\n",
              "        vertical-align: top;\n",
              "    }\n",
              "\n",
              "    .dataframe thead th {\n",
              "        text-align: right;\n",
              "    }\n",
              "</style>\n",
              "<table border=\"1\" class=\"dataframe\">\n",
              "  <thead>\n",
              "    <tr style=\"text-align: right;\">\n",
              "      <th></th>\n",
              "      <th>listing_id</th>\n",
              "      <th>local_price</th>\n",
              "      <th>min_nights</th>\n",
              "    </tr>\n",
              "  </thead>\n",
              "  <tbody>\n",
              "    <tr>\n",
              "      <th>count</th>\n",
              "      <td>4.748696e+06</td>\n",
              "      <td>4.748696e+06</td>\n",
              "      <td>4.748696e+06</td>\n",
              "    </tr>\n",
              "    <tr>\n",
              "      <th>mean</th>\n",
              "      <td>1.523313e+07</td>\n",
              "      <td>1.944215e+02</td>\n",
              "      <td>7.877554e+00</td>\n",
              "    </tr>\n",
              "    <tr>\n",
              "      <th>std</th>\n",
              "      <td>9.190721e+06</td>\n",
              "      <td>2.289745e+02</td>\n",
              "      <td>2.407054e+01</td>\n",
              "    </tr>\n",
              "    <tr>\n",
              "      <th>min</th>\n",
              "      <td>5.396000e+03</td>\n",
              "      <td>9.000000e+00</td>\n",
              "      <td>1.000000e+00</td>\n",
              "    </tr>\n",
              "    <tr>\n",
              "      <th>25%</th>\n",
              "      <td>6.351188e+06</td>\n",
              "      <td>7.900000e+01</td>\n",
              "      <td>2.000000e+00</td>\n",
              "    </tr>\n",
              "    <tr>\n",
              "      <th>50%</th>\n",
              "      <td>1.641294e+07</td>\n",
              "      <td>1.440000e+02</td>\n",
              "      <td>3.000000e+00</td>\n",
              "    </tr>\n",
              "    <tr>\n",
              "      <th>75%</th>\n",
              "      <td>2.353692e+07</td>\n",
              "      <td>2.400000e+02</td>\n",
              "      <td>4.000000e+00</td>\n",
              "    </tr>\n",
              "    <tr>\n",
              "      <th>max</th>\n",
              "      <td>2.885198e+07</td>\n",
              "      <td>1.000300e+04</td>\n",
              "      <td>3.650000e+02</td>\n",
              "    </tr>\n",
              "  </tbody>\n",
              "</table>\n",
              "</div>"
            ],
            "text/plain": [
              "         listing_id   local_price    min_nights\n",
              "count  4.748696e+06  4.748696e+06  4.748696e+06\n",
              "mean   1.523313e+07  1.944215e+02  7.877554e+00\n",
              "std    9.190721e+06  2.289745e+02  2.407054e+01\n",
              "min    5.396000e+03  9.000000e+00  1.000000e+00\n",
              "25%    6.351188e+06  7.900000e+01  2.000000e+00\n",
              "50%    1.641294e+07  1.440000e+02  3.000000e+00\n",
              "75%    2.353692e+07  2.400000e+02  4.000000e+00\n",
              "max    2.885198e+07  1.000300e+04  3.650000e+02"
            ]
          },
          "metadata": {
            "tags": []
          },
          "execution_count": 67
        }
      ]
    },
    {
      "cell_type": "code",
      "metadata": {
        "id": "eit1vhnx-rIZ",
        "colab_type": "code",
        "colab": {
          "base_uri": "https://localhost:8080/",
          "height": 462
        },
        "outputId": "b30baf92-28d1-4c54-b2aa-d5e17658a917"
      },
      "source": [
        "listing.head()"
      ],
      "execution_count": 68,
      "outputs": [
        {
          "output_type": "execute_result",
          "data": {
            "text/html": [
              "<div>\n",
              "<style scoped>\n",
              "    .dataframe tbody tr th:only-of-type {\n",
              "        vertical-align: middle;\n",
              "    }\n",
              "\n",
              "    .dataframe tbody tr th {\n",
              "        vertical-align: top;\n",
              "    }\n",
              "\n",
              "    .dataframe thead th {\n",
              "        text-align: right;\n",
              "    }\n",
              "</style>\n",
              "<table border=\"1\" class=\"dataframe\">\n",
              "  <thead>\n",
              "    <tr style=\"text-align: right;\">\n",
              "      <th></th>\n",
              "      <th>Unnamed: 0</th>\n",
              "      <th>listing_id</th>\n",
              "      <th>name</th>\n",
              "      <th>type</th>\n",
              "      <th>city</th>\n",
              "      <th>neighborhood</th>\n",
              "      <th>latitude</th>\n",
              "      <th>longitude</th>\n",
              "      <th>person_capacity</th>\n",
              "      <th>beds</th>\n",
              "      <th>bedrooms</th>\n",
              "      <th>bathrooms</th>\n",
              "      <th>is_rebookable</th>\n",
              "      <th>is_new_listing</th>\n",
              "      <th>is_fully_refundable</th>\n",
              "      <th>is_host_highly_rated</th>\n",
              "      <th>is_business_travel_ready</th>\n",
              "      <th>pricing_weekly_factor</th>\n",
              "      <th>pricing_monthly_factor</th>\n",
              "    </tr>\n",
              "  </thead>\n",
              "  <tbody>\n",
              "    <tr>\n",
              "      <th>0</th>\n",
              "      <td>0</td>\n",
              "      <td>28581061</td>\n",
              "      <td>La maison Clery</td>\n",
              "      <td>private_room</td>\n",
              "      <td>Paris</td>\n",
              "      <td>2e arrondissement</td>\n",
              "      <td>48.869292</td>\n",
              "      <td>2.348335</td>\n",
              "      <td>1</td>\n",
              "      <td>1</td>\n",
              "      <td>1</td>\n",
              "      <td>2.0</td>\n",
              "      <td>False</td>\n",
              "      <td>True</td>\n",
              "      <td>True</td>\n",
              "      <td>False</td>\n",
              "      <td>False</td>\n",
              "      <td>1.00</td>\n",
              "      <td>1.00</td>\n",
              "    </tr>\n",
              "    <tr>\n",
              "      <th>1</th>\n",
              "      <td>1</td>\n",
              "      <td>661961</td>\n",
              "      <td>studio PARIS PLACE EDITH PIAF 75020</td>\n",
              "      <td>entire_home</td>\n",
              "      <td>Paris</td>\n",
              "      <td>NaN</td>\n",
              "      <td>48.867284</td>\n",
              "      <td>2.403255</td>\n",
              "      <td>2</td>\n",
              "      <td>1</td>\n",
              "      <td>1</td>\n",
              "      <td>1.0</td>\n",
              "      <td>False</td>\n",
              "      <td>False</td>\n",
              "      <td>True</td>\n",
              "      <td>True</td>\n",
              "      <td>False</td>\n",
              "      <td>0.88</td>\n",
              "      <td>0.69</td>\n",
              "    </tr>\n",
              "    <tr>\n",
              "      <th>2</th>\n",
              "      <td>2</td>\n",
              "      <td>1261705</td>\n",
              "      <td>chambre privée à louer @ paris oberkampf</td>\n",
              "      <td>private_room</td>\n",
              "      <td>Paris</td>\n",
              "      <td>NaN</td>\n",
              "      <td>48.867894</td>\n",
              "      <td>2.375897</td>\n",
              "      <td>1</td>\n",
              "      <td>1</td>\n",
              "      <td>1</td>\n",
              "      <td>1.0</td>\n",
              "      <td>False</td>\n",
              "      <td>False</td>\n",
              "      <td>True</td>\n",
              "      <td>True</td>\n",
              "      <td>False</td>\n",
              "      <td>1.00</td>\n",
              "      <td>1.00</td>\n",
              "    </tr>\n",
              "    <tr>\n",
              "      <th>3</th>\n",
              "      <td>3</td>\n",
              "      <td>1318834</td>\n",
              "      <td>Appartement au coeur du Marais</td>\n",
              "      <td>entire_home</td>\n",
              "      <td>Paris</td>\n",
              "      <td>République</td>\n",
              "      <td>48.870370</td>\n",
              "      <td>2.358510</td>\n",
              "      <td>3</td>\n",
              "      <td>2</td>\n",
              "      <td>2</td>\n",
              "      <td>1.0</td>\n",
              "      <td>False</td>\n",
              "      <td>False</td>\n",
              "      <td>True</td>\n",
              "      <td>False</td>\n",
              "      <td>False</td>\n",
              "      <td>0.82</td>\n",
              "      <td>0.48</td>\n",
              "    </tr>\n",
              "    <tr>\n",
              "      <th>4</th>\n",
              "      <td>4</td>\n",
              "      <td>1677091</td>\n",
              "      <td>Lovely &amp; Quiet flat</td>\n",
              "      <td>entire_home</td>\n",
              "      <td>Paris</td>\n",
              "      <td>Buttes-Chaumont - Belleville</td>\n",
              "      <td>48.874149</td>\n",
              "      <td>2.373700</td>\n",
              "      <td>2</td>\n",
              "      <td>1</td>\n",
              "      <td>1</td>\n",
              "      <td>1.0</td>\n",
              "      <td>False</td>\n",
              "      <td>False</td>\n",
              "      <td>True</td>\n",
              "      <td>True</td>\n",
              "      <td>False</td>\n",
              "      <td>0.95</td>\n",
              "      <td>0.90</td>\n",
              "    </tr>\n",
              "  </tbody>\n",
              "</table>\n",
              "</div>"
            ],
            "text/plain": [
              "   Unnamed: 0  listing_id  ... pricing_weekly_factor pricing_monthly_factor\n",
              "0           0    28581061  ...                  1.00                   1.00\n",
              "1           1      661961  ...                  0.88                   0.69\n",
              "2           2     1261705  ...                  1.00                   1.00\n",
              "3           3     1318834  ...                  0.82                   0.48\n",
              "4           4     1677091  ...                  0.95                   0.90\n",
              "\n",
              "[5 rows x 19 columns]"
            ]
          },
          "metadata": {
            "tags": []
          },
          "execution_count": 68
        }
      ]
    },
    {
      "cell_type": "code",
      "metadata": {
        "id": "Xe3ZEX4C-5uM",
        "colab_type": "code",
        "colab": {
          "base_uri": "https://localhost:8080/",
          "height": 297
        },
        "outputId": "d7a8ee5a-fa99-4234-fdbe-6e16175cfa28"
      },
      "source": [
        "listing.describe()"
      ],
      "execution_count": 69,
      "outputs": [
        {
          "output_type": "execute_result",
          "data": {
            "text/html": [
              "<div>\n",
              "<style scoped>\n",
              "    .dataframe tbody tr th:only-of-type {\n",
              "        vertical-align: middle;\n",
              "    }\n",
              "\n",
              "    .dataframe tbody tr th {\n",
              "        vertical-align: top;\n",
              "    }\n",
              "\n",
              "    .dataframe thead th {\n",
              "        text-align: right;\n",
              "    }\n",
              "</style>\n",
              "<table border=\"1\" class=\"dataframe\">\n",
              "  <thead>\n",
              "    <tr style=\"text-align: right;\">\n",
              "      <th></th>\n",
              "      <th>Unnamed: 0</th>\n",
              "      <th>listing_id</th>\n",
              "      <th>latitude</th>\n",
              "      <th>longitude</th>\n",
              "      <th>person_capacity</th>\n",
              "      <th>beds</th>\n",
              "      <th>bedrooms</th>\n",
              "      <th>bathrooms</th>\n",
              "      <th>pricing_weekly_factor</th>\n",
              "      <th>pricing_monthly_factor</th>\n",
              "    </tr>\n",
              "  </thead>\n",
              "  <tbody>\n",
              "    <tr>\n",
              "      <th>count</th>\n",
              "      <td>999.000000</td>\n",
              "      <td>9.990000e+02</td>\n",
              "      <td>999.000000</td>\n",
              "      <td>999.000000</td>\n",
              "      <td>999.000000</td>\n",
              "      <td>999.000000</td>\n",
              "      <td>999.000000</td>\n",
              "      <td>999.000000</td>\n",
              "      <td>999.000000</td>\n",
              "      <td>999.000000</td>\n",
              "    </tr>\n",
              "    <tr>\n",
              "      <th>mean</th>\n",
              "      <td>499.410410</td>\n",
              "      <td>1.543276e+07</td>\n",
              "      <td>48.864251</td>\n",
              "      <td>2.345202</td>\n",
              "      <td>3.669670</td>\n",
              "      <td>2.058058</td>\n",
              "      <td>1.326326</td>\n",
              "      <td>1.230230</td>\n",
              "      <td>0.942882</td>\n",
              "      <td>0.871809</td>\n",
              "    </tr>\n",
              "    <tr>\n",
              "      <th>std</th>\n",
              "      <td>288.950197</td>\n",
              "      <td>9.305853e+06</td>\n",
              "      <td>0.009824</td>\n",
              "      <td>0.031837</td>\n",
              "      <td>2.190568</td>\n",
              "      <td>1.500378</td>\n",
              "      <td>0.998806</td>\n",
              "      <td>0.524497</td>\n",
              "      <td>0.073776</td>\n",
              "      <td>0.162974</td>\n",
              "    </tr>\n",
              "    <tr>\n",
              "      <th>min</th>\n",
              "      <td>0.000000</td>\n",
              "      <td>5.609300e+04</td>\n",
              "      <td>48.844372</td>\n",
              "      <td>2.268992</td>\n",
              "      <td>1.000000</td>\n",
              "      <td>0.000000</td>\n",
              "      <td>0.000000</td>\n",
              "      <td>0.000000</td>\n",
              "      <td>0.600000</td>\n",
              "      <td>0.330000</td>\n",
              "    </tr>\n",
              "    <tr>\n",
              "      <th>25%</th>\n",
              "      <td>249.500000</td>\n",
              "      <td>6.341818e+06</td>\n",
              "      <td>48.856929</td>\n",
              "      <td>2.326608</td>\n",
              "      <td>2.000000</td>\n",
              "      <td>1.000000</td>\n",
              "      <td>1.000000</td>\n",
              "      <td>1.000000</td>\n",
              "      <td>0.900000</td>\n",
              "      <td>0.750000</td>\n",
              "    </tr>\n",
              "    <tr>\n",
              "      <th>50%</th>\n",
              "      <td>499.000000</td>\n",
              "      <td>1.727835e+07</td>\n",
              "      <td>48.864368</td>\n",
              "      <td>2.349152</td>\n",
              "      <td>3.000000</td>\n",
              "      <td>2.000000</td>\n",
              "      <td>1.000000</td>\n",
              "      <td>1.000000</td>\n",
              "      <td>1.000000</td>\n",
              "      <td>1.000000</td>\n",
              "    </tr>\n",
              "    <tr>\n",
              "      <th>75%</th>\n",
              "      <td>749.500000</td>\n",
              "      <td>2.378911e+07</td>\n",
              "      <td>48.871906</td>\n",
              "      <td>2.366973</td>\n",
              "      <td>4.000000</td>\n",
              "      <td>3.000000</td>\n",
              "      <td>2.000000</td>\n",
              "      <td>1.000000</td>\n",
              "      <td>1.000000</td>\n",
              "      <td>1.000000</td>\n",
              "    </tr>\n",
              "    <tr>\n",
              "      <th>max</th>\n",
              "      <td>999.000000</td>\n",
              "      <td>2.879280e+07</td>\n",
              "      <td>48.882691</td>\n",
              "      <td>2.412700</td>\n",
              "      <td>16.000000</td>\n",
              "      <td>16.000000</td>\n",
              "      <td>6.000000</td>\n",
              "      <td>5.000000</td>\n",
              "      <td>1.000000</td>\n",
              "      <td>1.000000</td>\n",
              "    </tr>\n",
              "  </tbody>\n",
              "</table>\n",
              "</div>"
            ],
            "text/plain": [
              "       Unnamed: 0    listing_id  ...  pricing_weekly_factor  pricing_monthly_factor\n",
              "count  999.000000  9.990000e+02  ...             999.000000              999.000000\n",
              "mean   499.410410  1.543276e+07  ...               0.942882                0.871809\n",
              "std    288.950197  9.305853e+06  ...               0.073776                0.162974\n",
              "min      0.000000  5.609300e+04  ...               0.600000                0.330000\n",
              "25%    249.500000  6.341818e+06  ...               0.900000                0.750000\n",
              "50%    499.000000  1.727835e+07  ...               1.000000                1.000000\n",
              "75%    749.500000  2.378911e+07  ...               1.000000                1.000000\n",
              "max    999.000000  2.879280e+07  ...               1.000000                1.000000\n",
              "\n",
              "[8 rows x 10 columns]"
            ]
          },
          "metadata": {
            "tags": []
          },
          "execution_count": 69
        }
      ]
    },
    {
      "cell_type": "markdown",
      "metadata": {
        "id": "VSw4ln8dbmaj",
        "colab_type": "text"
      },
      "source": [
        "## Données d'entrée"
      ]
    },
    {
      "cell_type": "markdown",
      "metadata": {
        "id": "AxzKOD8Pbmak",
        "colab_type": "text"
      },
      "source": [
        "L'objectif ici est de charger les données pour créer les matrices $X$ et $Y$ du modèle linéaire. **Attention**, il n'est pas nécessaire de rajouter le vecteur colonne $\\mathbf{1}$ en première colonne, car *scikit-learn* le fait automatiquement !"
      ]
    },
    {
      "cell_type": "code",
      "metadata": {
        "id": "Rc4Drwiabmak",
        "colab_type": "code",
        "colab": {}
      },
      "source": [
        "#définir vos variables de travail X et Y\n",
        "list(listing.columns)\n",
        "X = listing.loc[:, ['listing_id', 'person_capacity', 'bedrooms', 'bathrooms']]\n",
        "Y = []"
      ],
      "execution_count": 0,
      "outputs": []
    },
    {
      "cell_type": "code",
      "metadata": {
        "id": "kqMBpmYsbmam",
        "colab_type": "code",
        "colab": {}
      },
      "source": [
        "#construire l'array des prix \n",
        " \n",
        "for i, row in X.iterrows():\n",
        "    y = 0 \n",
        "    ID = int(row['listing_id'])\n",
        "    subset = price[price['listing_id'] == ID]\n",
        "    y = subset['local_price'].mean()\n",
        "    Y.append(y)"
      ],
      "execution_count": 0,
      "outputs": []
    },
    {
      "cell_type": "code",
      "metadata": {
        "id": "_DQjqLhTbmao",
        "colab_type": "code",
        "colab": {}
      },
      "source": [
        "Y = np.asarray(Y)"
      ],
      "execution_count": 0,
      "outputs": []
    },
    {
      "cell_type": "markdown",
      "metadata": {
        "id": "mkoDfV7ibmaq",
        "colab_type": "text"
      },
      "source": [
        "En *Machine Learning*, on a l'habitude de couper l'ensemble de données en deux sous-ensembles :\n",
        "\n",
        "- Un ensemble d'entraînement (*train set*), sur lequel le modèle va être calibré.\n",
        "- Un ensemble de test (*test set*), qui ne sera pas utilisé pendant le calibrage mais permettra de vérifier l'aptitude du modèle à généraliser sur de nouvelles observations inconnues.\n",
        "\n",
        "En général, on découpe l'ensemble de données (*split*) en prenant $\\alpha \\%$ de l'ensemble pour entraînement et $1-\\alpha \\%$ comme test. Dans la plus part des cas, on considère que $\\alpha=10,20\\ ou \\ 30\\%$."
      ]
    },
    {
      "cell_type": "code",
      "metadata": {
        "id": "QsojIFH2bmar",
        "colab_type": "code",
        "colab": {}
      },
      "source": [
        "#utiliser la méthode split de sklearn en splitant avec un alpha=30 et un random state=42 \n",
        "#afficher la shape de vos données \n",
        "from sklearn.model_selection import train_test_split \n",
        "X_train, X_test, y_train, y_test = train_test_split(X,Y, test_size=0.3, random_state=42)"
      ],
      "execution_count": 0,
      "outputs": []
    },
    {
      "cell_type": "code",
      "metadata": {
        "id": "btS1930jbmat",
        "colab_type": "code",
        "outputId": "6c1dbf47-a500-4858-b854-d1f9c44b5e00",
        "colab": {
          "base_uri": "https://localhost:8080/",
          "height": 34
        }
      },
      "source": [
        "X.shape"
      ],
      "execution_count": 75,
      "outputs": [
        {
          "output_type": "execute_result",
          "data": {
            "text/plain": [
              "(999, 4)"
            ]
          },
          "metadata": {
            "tags": []
          },
          "execution_count": 75
        }
      ]
    },
    {
      "cell_type": "code",
      "metadata": {
        "id": "yY2M7JaAUOCQ",
        "colab_type": "code",
        "colab": {
          "base_uri": "https://localhost:8080/",
          "height": 34
        },
        "outputId": "958b708d-6169-4ed9-8420-8838290e11d8"
      },
      "source": [
        "Y.shape"
      ],
      "execution_count": 76,
      "outputs": [
        {
          "output_type": "execute_result",
          "data": {
            "text/plain": [
              "(999,)"
            ]
          },
          "metadata": {
            "tags": []
          },
          "execution_count": 76
        }
      ]
    },
    {
      "cell_type": "code",
      "metadata": {
        "id": "30pp_G-MURad",
        "colab_type": "code",
        "colab": {
          "base_uri": "https://localhost:8080/",
          "height": 34
        },
        "outputId": "ef89ef2c-6f3a-4a6d-c4d9-1ac2b75ce963"
      },
      "source": [
        "X_train.shape"
      ],
      "execution_count": 77,
      "outputs": [
        {
          "output_type": "execute_result",
          "data": {
            "text/plain": [
              "(699, 4)"
            ]
          },
          "metadata": {
            "tags": []
          },
          "execution_count": 77
        }
      ]
    },
    {
      "cell_type": "code",
      "metadata": {
        "id": "42ybLAVYUYeX",
        "colab_type": "code",
        "colab": {
          "base_uri": "https://localhost:8080/",
          "height": 34
        },
        "outputId": "e5082e27-5281-48b6-bbb3-b6c712de92a4"
      },
      "source": [
        "X_test.shape"
      ],
      "execution_count": 78,
      "outputs": [
        {
          "output_type": "execute_result",
          "data": {
            "text/plain": [
              "(300, 4)"
            ]
          },
          "metadata": {
            "tags": []
          },
          "execution_count": 78
        }
      ]
    },
    {
      "cell_type": "code",
      "metadata": {
        "id": "eWqFUl7rUdhS",
        "colab_type": "code",
        "colab": {
          "base_uri": "https://localhost:8080/",
          "height": 34
        },
        "outputId": "ae9bb11a-037d-4f0a-fc40-dd0970c68f5a"
      },
      "source": [
        "y_train.shape"
      ],
      "execution_count": 79,
      "outputs": [
        {
          "output_type": "execute_result",
          "data": {
            "text/plain": [
              "(699,)"
            ]
          },
          "metadata": {
            "tags": []
          },
          "execution_count": 79
        }
      ]
    },
    {
      "cell_type": "code",
      "metadata": {
        "id": "0m2FppzaUlFr",
        "colab_type": "code",
        "colab": {
          "base_uri": "https://localhost:8080/",
          "height": 34
        },
        "outputId": "e54b798f-159a-4a5e-aed8-7ac09e7d27a6"
      },
      "source": [
        "y_test.shape"
      ],
      "execution_count": 80,
      "outputs": [
        {
          "output_type": "execute_result",
          "data": {
            "text/plain": [
              "(300,)"
            ]
          },
          "metadata": {
            "tags": []
          },
          "execution_count": 80
        }
      ]
    },
    {
      "cell_type": "markdown",
      "metadata": {
        "id": "ThFOipFobmav",
        "colab_type": "text"
      },
      "source": [
        "## Entraînement"
      ]
    },
    {
      "cell_type": "markdown",
      "metadata": {
        "id": "Hy6Aw89Ubmaw",
        "colab_type": "text"
      },
      "source": [
        "Pour information, *scikit-learn* utilise le solveur OLS (Ordinary Least Squares) de *numpy*."
      ]
    },
    {
      "cell_type": "code",
      "metadata": {
        "id": "m9Ue5TKubmaw",
        "colab_type": "code",
        "colab": {}
      },
      "source": [
        "#créer l'objet de régression et entrainer le sur notre ensemble d'entraînement\n",
        "regr = linear_model.LinearRegression()\n",
        "regr.fit(X_train, y_train)"
      ],
      "execution_count": 0,
      "outputs": []
    },
    {
      "cell_type": "markdown",
      "metadata": {
        "id": "-fHfpv_xbmaz",
        "colab_type": "text"
      },
      "source": [
        "On affiche le vecteur des coefficients pour interpréter rapidement le modèle."
      ]
    },
    {
      "cell_type": "code",
      "metadata": {
        "id": "rdrqYHctbma0",
        "colab_type": "code",
        "outputId": "1f8cd6d8-cde6-4003-9643-f90fa8488dc1",
        "colab": {
          "base_uri": "https://localhost:8080/",
          "height": 85
        }
      },
      "source": [
        "#afficher les coefficients\n",
        "#que remarquez vous ? \n",
        "print('Coefficients beta_j: \\n', regr.coef_)\n",
        "print('Coefficients intercept beta_0: \\n', regr.intercept_)"
      ],
      "execution_count": 81,
      "outputs": [
        {
          "output_type": "stream",
          "text": [
            "Coefficients beta_j: \n",
            " [2.47834609e-06 3.23451085e+01 1.43887639e+01 7.75318453e+01]\n",
            "Coefficients intercept beta_0: \n",
            " -79.79953133672873\n"
          ],
          "name": "stdout"
        }
      ]
    },
    {
      "cell_type": "markdown",
      "metadata": {
        "id": "vnK2R1EFbma2",
        "colab_type": "text"
      },
      "source": [
        "## Validation du modèle\n",
        "\n",
        "### Le coefficient de détermination $R^2$\n",
        "\n",
        "Par la suite, nous ferons l'hypothèse de gaussianité sur les bruits. Dans l'idée, nous aimerions obtenir une valeur numérique qui nous indique à quel point la régression linéaire a un sens sur nos données. Pour cela, introduisons les notations suivantes :\n",
        "\n",
        "- $SCT=\\|Y-\\hat{y} \\mathbf{1}\\|^2$ est la somme des carrés totaux\n",
        "- $SCE=\\|\\hat{Y}-\\hat{y} \\mathbf{1}\\|^2$ est la somme des carrés expliqués\n",
        "- $SCR=\\|\\hat{\\varepsilon}\\|^2$ est la somme des carrés résiduels\n",
        "\n",
        "L'idée est de décomposer la somme des carrés totaux comme la somme des carrés que le modèle explique, en plus de la somme des carrés qui sont liés aux résidus (et donc que le modèle ne peut pas expliquer). On voit donc ici l'intérêt de calculer un coefficient à partir du $SCE$. Puisque l'on a la relation suivante :\n",
        "\n",
        "$$SCT=SCE+SCR \\text{ alors } 1=\\frac{SCE}{SCT}+\\frac{SCR}{SCT}$$\n",
        "\n",
        "Plus les résidus sont petits (et donc la régression est \"bonne\"), plus $SCR$ devient petit et donc $SCE$ devient grand. Le schéma inverse s'opère de la même façon. Dans le meilleur des cas, on obtient $SCR=0$ et donc $SCE=SCT$ d'où le premier membre vaut $1$. Dans le cas contraite, $SCE=0$ et automatiquement, le premier membre est nul. C'est ainsi que l'on définit le coefficient de détermination $R^2$ comme \n",
        "$$R^2=\\frac{SCE}{SCT}=1-\\frac{SCR}{SCT}$$\n",
        "Ainsi, $R^2 \\in [0,1]$. Plus $R^2$ est proche de $1$, plus la régression linéaire a du sens. Au contraire, si $R^2$ est proche de $0$, le modèle linéaire possède un faible pouvoir explicatif."
      ]
    },
    {
      "cell_type": "code",
      "metadata": {
        "id": "YtxUOKQZbma3",
        "colab_type": "code",
        "outputId": "e1118816-9888-4837-82fe-59ec405219c7",
        "colab": {
          "base_uri": "https://localhost:8080/",
          "height": 34
        }
      },
      "source": [
        "#faire une prediction sur X_test\n",
        "y_pred = regr.predict(X_test)\n",
        "print(\"Taille de Y_pred : \", y_pred.size)"
      ],
      "execution_count": 87,
      "outputs": [
        {
          "output_type": "stream",
          "text": [
            "Taille de Y_pred :  300\n"
          ],
          "name": "stdout"
        }
      ]
    },
    {
      "cell_type": "code",
      "metadata": {
        "id": "frkaiqfNbma5",
        "colab_type": "code",
        "outputId": "c7c9e9d3-1c00-4d73-8f32-7377fd03dc70",
        "colab": {
          "base_uri": "https://localhost:8080/",
          "height": 51
        }
      },
      "source": [
        "#afficher l'erreur des moindres carrées sur l'ensemble d'entrainement ainsi que le R2\n",
        "#que remarquez vous ?\n",
        "print(\"Mean squared error : %.2f\" % mean_squared_error(y_test, y_pred))\n",
        "print(\"R2 : %.2f\" % r2_score(y_test, y_pred))"
      ],
      "execution_count": 98,
      "outputs": [
        {
          "output_type": "stream",
          "text": [
            "Mean squared error : 19631.83\n",
            "R2 : 0.42\n"
          ],
          "name": "stdout"
        }
      ]
    },
    {
      "cell_type": "code",
      "metadata": {
        "id": "XWIX6K8Ebma7",
        "colab_type": "code",
        "colab": {}
      },
      "source": [
        "# "
      ],
      "execution_count": 0,
      "outputs": []
    }
  ]
}